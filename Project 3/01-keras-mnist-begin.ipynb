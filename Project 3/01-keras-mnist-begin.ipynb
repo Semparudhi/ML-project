{
 "cells": [
  {
   "cell_type": "code",
   "execution_count": 1,
   "metadata": {},
   "outputs": [],
   "source": [
    "from __future__ import print_function  \n",
    "# for Python2 compatibility "
   ]
  },
  {
   "cell_type": "code",
   "execution_count": 2,
   "metadata": {},
   "outputs": [],
   "source": [
    "import numpy \n",
    "numpy.random.seed(1337)   # for experiment reproducibility "
   ]
  },
  {
   "cell_type": "code",
   "execution_count": 3,
   "metadata": {},
   "outputs": [
    {
     "name": "stderr",
     "output_type": "stream",
     "text": [
      "Using TensorFlow backend.\n",
      "Matplotlib is building the font cache; this may take a moment.\n"
     ]
    }
   ],
   "source": [
    "import keras\n",
    "from keras.models import Sequential\n",
    "from keras.layers import Dense \n",
    "from keras.optimizers import SGD \n",
    "from keras.datasets import mnist\n",
    "import matplotlib.pyplot as plt"
   ]
  },
  {
   "cell_type": "code",
   "execution_count": null,
   "metadata": {},
   "outputs": [],
   "source": []
  },
  {
   "cell_type": "code",
   "execution_count": 4,
   "metadata": {},
   "outputs": [],
   "source": [
    "num_classes = 10\n",
    "\n",
    "batch_size = 128     \n",
    "epochs = 20"
   ]
  },
  {
   "cell_type": "code",
   "execution_count": 5,
   "metadata": {},
   "outputs": [],
   "source": [
    "# the data, shuffled and split between train and test sets\n",
    "(x_train, y_train), (x_test, y_test) = mnist.load_data()"
   ]
  },
  {
   "cell_type": "code",
   "execution_count": 6,
   "metadata": {},
   "outputs": [
    {
     "data": {
      "image/png": "[encoded data removed]",
      "text/plain": [
       "<Figure size 432x288 with 9 Axes>"
      ]
     },
     "execution_count": 6,
     "metadata": {},
     "output_type": "execute_result"
    },
    {
     "data": {
      "image/png": "[encoded data removed]",
      "text/plain": [
       "<Figure size 432x288 with 9 Axes>"
      ]
     },
     "metadata": {},
     "output_type": "display_data"
    }
   ],
   "source": [
    "fig=plt.figure()\n",
    "for i in range(9):\n",
    "    plt.subplot(3,3,i+1)\n",
    "    plt.tight_layout()\n",
    "    plt.imshow(x_train[i], cmap='gray',interpolation='none')\n",
    "    plt.title(\"Digit{}\".format(y_train[i]))\n",
    "    plt.xticks([])\n",
    "    plt.yticks([])\n",
    "fig"
   ]
  },
  {
   "cell_type": "code",
   "execution_count": 8,
   "metadata": {},
   "outputs": [
    {
     "name": "stdout",
     "output_type": "stream",
     "text": [
      "(60000, 28, 28) (60000,) (10000, 28, 28) (10000,)\n"
     ]
    }
   ],
   "source": [
    "print(x_train.shape, y_train.shape, x_test.shape, y_test.shape)"
   ]
  },
  {
   "cell_type": "code",
   "execution_count": 9,
   "metadata": {},
   "outputs": [
    {
     "name": "stdout",
     "output_type": "stream",
     "text": [
      "60000 train samples\n",
      "10000 test samples\n"
     ]
    }
   ],
   "source": [
    "x_train = x_train.reshape(60000, 784)  # 28x28 = 784\n",
    "x_test = x_test.reshape(10000, 784)\n",
    "\n",
    "x_train = x_train.astype('float32') \n",
    "x_test = x_test.astype('float32') \n",
    "\n",
    "x_train /= 255  # 0 - 255 ...  0-1 \n",
    "x_test /= 255   # normalizing your data \n",
    "\n",
    "\n",
    "print(x_train.shape[0], 'train samples')\n",
    "print(x_test.shape[0], 'test samples')"
   ]
  },
  {
   "cell_type": "code",
   "execution_count": 10,
   "metadata": {},
   "outputs": [
    {
     "name": "stdout",
     "output_type": "stream",
     "text": [
      "(60000, 784)\n",
      "(60000,)\n"
     ]
    }
   ],
   "source": [
    "print(x_train.shape)\n",
    "print(y_train.shape)"
   ]
  },
  {
   "cell_type": "code",
   "execution_count": 11,
   "metadata": {},
   "outputs": [
    {
     "data": {
      "text/plain": [
       "5"
      ]
     },
     "execution_count": 11,
     "metadata": {},
     "output_type": "execute_result"
    }
   ],
   "source": [
    "y_train[0]"
   ]
  },
  {
   "cell_type": "code",
   "execution_count": 12,
   "metadata": {},
   "outputs": [],
   "source": [
    "# convert class vectors to binary class matrices\n",
    "y_train = keras.utils.to_categorical(y_train, num_classes)\n",
    "y_test = keras.utils.to_categorical(y_test, num_classes)"
   ]
  },
  {
   "cell_type": "code",
   "execution_count": 14,
   "metadata": {},
   "outputs": [
    {
     "data": {
      "text/plain": [
       "array([0., 0., 0., 0., 0., 1., 0., 0., 0., 0.], dtype=float32)"
      ]
     },
     "execution_count": 14,
     "metadata": {},
     "output_type": "execute_result"
    }
   ],
   "source": [
    "y_train[0]"
   ]
  },
  {
   "cell_type": "markdown",
   "metadata": {},
   "source": [
    "That's called a one-hot vector. "
   ]
  },
  {
   "cell_type": "code",
   "execution_count": 15,
   "metadata": {},
   "outputs": [],
   "source": [
    "model = Sequential()"
   ]
  },
  {
   "cell_type": "code",
   "execution_count": 16,
   "metadata": {},
   "outputs": [],
   "source": [
    "model.add( Dense(512, activation='sigmoid', input_shape=(784,)  ) )\n",
    "model.add( Dense(512, activation='sigmoid'  ) )\n",
    "model.add( Dense(num_classes, activation='softmax'))"
   ]
  },
  {
   "cell_type": "code",
   "execution_count": 17,
   "metadata": {},
   "outputs": [
    {
     "name": "stdout",
     "output_type": "stream",
     "text": [
      "Model: \"sequential_1\"\n",
      "_________________________________________________________________\n",
      "Layer (type)                 Output Shape              Param #   \n",
      "=================================================================\n",
      "dense_1 (Dense)              (None, 512)               401920    \n",
      "_________________________________________________________________\n",
      "dense_2 (Dense)              (None, 512)               262656    \n",
      "_________________________________________________________________\n",
      "dense_3 (Dense)              (None, 10)                5130      \n",
      "=================================================================\n",
      "Total params: 669,706\n",
      "Trainable params: 669,706\n",
      "Non-trainable params: 0\n",
      "_________________________________________________________________\n"
     ]
    }
   ],
   "source": [
    "# What does the model look like? \n",
    "model.summary()"
   ]
  },
  {
   "cell_type": "code",
   "execution_count": 18,
   "metadata": {},
   "outputs": [],
   "source": [
    "# Compile the model \n",
    "model.compile(loss='categorical_crossentropy', optimizer=SGD(), \n",
    "              metrics=['accuracy'])"
   ]
  },
  {
   "cell_type": "code",
   "execution_count": 19,
   "metadata": {},
   "outputs": [
    {
     "name": "stdout",
     "output_type": "stream",
     "text": [
      "Train on 60000 samples, validate on 10000 samples\n",
      "Epoch 1/20\n",
      "60000/60000 [==============================] - 66s 1ms/step - loss: 2.2733 - accuracy: 0.1880 - val_loss: 2.2331 - val_accuracy: 0.2969\n",
      "Epoch 2/20\n",
      "60000/60000 [==============================] - 53s 883us/step - loss: 2.1940 - accuracy: 0.3729 - val_loss: 2.1435 - val_accuracy: 0.3228\n",
      "Epoch 3/20\n",
      "60000/60000 [==============================] - 48s 804us/step - loss: 2.0889 - accuracy: 0.5107 - val_loss: 2.0159 - val_accuracy: 0.69100900 - ac\n",
      "Epoch 4/20\n",
      "60000/60000 [==============================] - 37s 610us/step - loss: 1.9346 - accuracy: 0.5951 - val_loss: 1.8304 - val_accuracy: 0.6437\n",
      "Epoch 5/20\n",
      "60000/60000 [==============================] - 27s 445us/step - loss: 1.7218 - accuracy: 0.6515 - val_loss: 1.5906 - val_accuracy: 0.6672\n",
      "Epoch 6/20\n",
      "60000/60000 [==============================] - 35s 581us/step - loss: 1.4798 - accuracy: 0.7003 - val_loss: 1.3500 - val_accuracy: 0.7207\n",
      "Epoch 7/20\n",
      "60000/60000 [==============================] - 50s 832us/step - loss: 1.2577 - accuracy: 0.7374 - val_loss: 1.1461 - val_accuracy: 0.7621\n",
      "Epoch 8/20\n",
      "60000/60000 [==============================] - 34s 571us/step - loss: 1.0793 - accuracy: 0.7685 - val_loss: 0.9890 - val_accuracy: 0.7866\n",
      "Epoch 9/20\n",
      "60000/60000 [==============================] - 33s 556us/step - loss: 0.9434 - accuracy: 0.7897 - val_loss: 0.8710 - val_accuracy: 0.8060\n",
      "Epoch 10/20\n",
      "60000/60000 [==============================] - 31s 521us/step - loss: 0.8401 - accuracy: 0.8069 - val_loss: 0.7840 - val_accuracy: 0.8200\n",
      "Epoch 11/20\n",
      "60000/60000 [==============================] - 31s 509us/step - loss: 0.7605 - accuracy: 0.8202 - val_loss: 0.7117 - val_accuracy: 0.8339\n",
      "Epoch 12/20\n",
      "60000/60000 [==============================] - 31s 522us/step - loss: 0.6981 - accuracy: 0.8306 - val_loss: 0.6571 - val_accuracy: 0.8419\n",
      "Epoch 13/20\n",
      "60000/60000 [==============================] - 34s 561us/step - loss: 0.6482 - accuracy: 0.8394 - val_loss: 0.6120 - val_accuracy: 0.8479\n",
      "Epoch 14/20\n",
      "60000/60000 [==============================] - 29s 478us/step - loss: 0.6080 - accuracy: 0.8475 - val_loss: 0.5758 - val_accuracy: 0.8579\n",
      "Epoch 15/20\n",
      "60000/60000 [==============================] - 28s 474us/step - loss: 0.5746 - accuracy: 0.8536 - val_loss: 0.5446 - val_accuracy: 0.8609\n",
      "Epoch 16/20\n",
      "60000/60000 [==============================] - 29s 477us/step - loss: 0.5469 - accuracy: 0.8582 - val_loss: 0.5191 - val_accuracy: 0.8649\n",
      "Epoch 17/20\n",
      "60000/60000 [==============================] - 29s 478us/step - loss: 0.5234 - accuracy: 0.8640 - val_loss: 0.4987 - val_accuracy: 0.8682\n",
      "Epoch 18/20\n",
      "60000/60000 [==============================] - 29s 480us/step - loss: 0.5032 - accuracy: 0.8681 - val_loss: 0.4790 - val_accuracy: 0.8743\n",
      "Epoch 19/20\n",
      "60000/60000 [==============================] - 29s 481us/step - loss: 0.4858 - accuracy: 0.8716 - val_loss: 0.4620 - val_accuracy: 0.8770\n",
      "Epoch 20/20\n",
      "60000/60000 [==============================] - 31s 510us/step - loss: 0.4708 - accuracy: 0.8741 - val_loss: 0.4481 - val_accuracy: 0.88090.4703 - ac - ETA: 0s -\n"
     ]
    }
   ],
   "source": [
    "# let's perform the learning \n",
    "history = model.fit( x_train, y_train, \n",
    "           batch_size=batch_size,\n",
    "           epochs=epochs, \n",
    "           verbose=1, \n",
    "           validation_data=(x_test, y_test))"
   ]
  },
  {
   "cell_type": "code",
   "execution_count": 20,
   "metadata": {},
   "outputs": [
    {
     "name": "stdout",
     "output_type": "stream",
     "text": [
      "10000/10000 [==============================] - 4s 447us/step\n"
     ]
    }
   ],
   "source": [
    "# Let's evaluate the model \n",
    "score = model.evaluate(x_test, y_test)"
   ]
  },
  {
   "cell_type": "markdown",
   "metadata": {
    "collapsed": true
   },
   "source": [
    "See some great results here: http://rodrigob.github.io/are_we_there_yet/build/classification_datasets_results.html#4d4e495354 "
   ]
  },
  {
   "cell_type": "code",
   "execution_count": 23,
   "metadata": {},
   "outputs": [
    {
     "data": {
      "text/plain": [
       "0.8809000253677368"
      ]
     },
     "execution_count": 23,
     "metadata": {},
     "output_type": "execute_result"
    }
   ],
   "source": [
    "score[1]"
   ]
  },
  {
   "cell_type": "code",
   "execution_count": null,
   "metadata": {},
   "outputs": [],
   "source": []
  }
 ],
 "metadata": {
  "kernelspec": {
   "display_name": "Python 3",
   "language": "python",
   "name": "python3"
  },
  "language_info": {
   "codemirror_mode": {
    "name": "ipython",
    "version": 3
   },
   "file_extension": ".py",
   "mimetype": "text/x-python",
   "name": "python",
   "nbconvert_exporter": "python",
   "pygments_lexer": "ipython3",
   "version": "3.6.13"
  }
 },
 "nbformat": 4,
 "nbformat_minor": 2
}
